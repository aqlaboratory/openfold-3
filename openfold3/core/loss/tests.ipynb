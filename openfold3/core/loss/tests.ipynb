{
 "cells": [
  {
   "cell_type": "markdown",
   "metadata": {},
   "source": [
    "# Synthetic batch dictionary"
   ]
  },
  {
   "cell_type": "code",
   "execution_count": 8,
   "metadata": {},
   "outputs": [],
   "source": [
    "import torch\n",
    "\n",
    "B = 5\n",
    "\n",
    "def get_batch(\n",
    "    batch_size=5,\n",
    "    N_max=200,\n",
    "    protein_max=15,\n",
    "    protein_min=5,\n",
    "    dna_max=10,\n",
    "    dna_min=6,\n",
    "    rna_max=10,\n",
    "    rna_min=5,\n",
    "    ligand_max=60,\n",
    "    ligand_min=20,\n",
    "    seed=0\n",
    "):\n",
    "    \n",
    "    torch.manual_seed(0)\n",
    "    #----------------------------------------\n",
    "    # Token \n",
    "    #----------------------------------------\n",
    "\n",
    "    B = batch_size\n",
    "    T_protein = torch.randint(protein_min, protein_max, (B,)) # [B]\n",
    "    T_dna = torch.randint(dna_min, dna_max, (B,)) # [B]\n",
    "    T_rna = torch.randint(rna_min, rna_max, (B,)) # [B]\n",
    "    T_ligand = torch.randint(ligand_min, ligand_max, (B,)) # [B]\n",
    "\n",
    "    T = T_protein + T_dna + T_rna + T_ligand\n",
    "\n",
    "    #----------------------------------------\n",
    "    # Atom sizes\n",
    "    #----------------------------------------\n",
    "\n",
    "    protein_sizes = [torch.randint(3,14, (T_protein[i],)) for i in range(B)]\n",
    "    N_protein = torch.tensor([x.sum(-1) for x in protein_sizes]) # [B]\n",
    "    dna_sizes = [torch.randint(5,10, (T_dna[i],)) for i in range(B)]\n",
    "    N_dna = torch.tensor([x.sum(-1) for x in dna_sizes]) # [B]\n",
    "    rna_sizes = [torch.randint(5,10, (T_rna[i],)) for i in range(B)]\n",
    "    N_rna = torch.tensor([x.sum(-1) for x in rna_sizes]) # [B]\n",
    "    N_ligand = T_ligand # [B]\n",
    "\n",
    "    # concatenate sizes\n",
    "    sizes = [torch.cat([protein_sizes[i], dna_sizes[i], rna_sizes[i], torch.ones(N_ligand[i])]) for i in range(B)]\n",
    "    sizes = [x.to(torch.int64) for x in sizes]\n",
    "\n",
    "    N = N_protein + N_dna + N_rna + N_ligand\n",
    "\n",
    "    if N.max() > N_max:\n",
    "        N_max = N.max().item()\n",
    "\n",
    "    #----------------------------------------\n",
    "    # atom mask (padding)\n",
    "    #----------------------------------------\n",
    "\n",
    "    atom_mask = torch.zeros(B, N_max)\n",
    "    for i in range(B):\n",
    "        atom_mask[i, :N[i]] = 1\n",
    "\n",
    "    #----------------------------------------\n",
    "    # token_mask (padding)\n",
    "    #----------------------------------------\n",
    "\n",
    "    T_max = T.max()\n",
    "    token_mask = torch.zeros(B, T_max)\n",
    "    for i in range(B):\n",
    "        token_mask[i, :T[i]] = 1\n",
    "\n",
    "        \n",
    "    #----------------------------------------\n",
    "    # 'is' feature\n",
    "    #----------------------------------------\n",
    "\n",
    "    is_protein = torch.zeros(B, T_max) # [B, T_max]\n",
    "    for i in range(B):\n",
    "        a = T_protein[i].item()\n",
    "        is_protein[i, :a] = 1\n",
    "\n",
    "    is_dna = torch.zeros(B, T_max) # [B, T_max]\n",
    "    for i in range(B):\n",
    "        a = T_protein[i].item()\n",
    "        b = a + T_dna[i].item()\n",
    "        is_dna[i, a:b] = 1\n",
    "\n",
    "    is_rna = torch.zeros(B, T_max) # [B, T_max]\n",
    "    for i in range(B):\n",
    "        a = T_protein[i].item() + T_dna[i].item()\n",
    "        b = a + T_rna[i].item()\n",
    "        is_rna[i, a:b] = 1\n",
    "\n",
    "    is_ligand = torch.zeros(B, T_max) # [B, T_max]\n",
    "    for i in range(B):\n",
    "        a = T_protein[i].item() + T_dna[i].item() + T_rna[i].item()\n",
    "        b = a + T_ligand[i].item()\n",
    "        is_ligand[i, a:b] = 1\n",
    "\n",
    "    #----------------------------------------\n",
    "    # Valid frame\n",
    "    #----------------------------------------\n",
    "\n",
    "    valid_frame = token_mask.clone()\n",
    "    valid_frames = [torch.bernoulli(0.95 * torch.ones(N_ligand[i])) for i in range(B)]\n",
    "    for i in range(B):\n",
    "        T_shift = T_protein[i] + T_dna[i] + T_rna[i]\n",
    "        valid_frame[i, T_shift:T_shift+N_ligand[i]] = valid_frames[i]\n",
    "\n",
    "    #----------------------------------------\n",
    "    # atom mask ground truth\n",
    "    #----------------------------------------\n",
    "\n",
    "    atom_resolved = torch.bernoulli(0.95 * torch.ones(B, N_max))\n",
    "    atom_mask_gt = atom_mask * atom_resolved\n",
    "\n",
    "    #----------------------------------------\n",
    "    # frame index\n",
    "    #----------------------------------------\n",
    "\n",
    "    # for each token get indices of three atoms associated with that toekn\n",
    "    frame_index = torch.zeros(B, T_max, 3)  \n",
    "    for i in range(B):\n",
    "        t_running = 0\n",
    "        for t in range(T[i]):\n",
    "            if is_ligand[i, t] == 0:\n",
    "                # sample 3 atoms from t_running to t_running+sizes[i][t]\n",
    "                atoms = torch.randperm(sizes[i][t])[:3]\n",
    "                atoms += t_running\n",
    "                t_running += sizes[i][t]\n",
    "            \n",
    "            else:\n",
    "                atoms = torch.randperm(N_ligand[i])[:3]\n",
    "                atoms += t_running\n",
    "            \n",
    "            \n",
    "\n",
    "            frame_index[i, t] = atoms\n",
    "\n",
    "    batch = {}\n",
    "    batch['N_max'] = N_max\n",
    "    batch['T_max'] = T_max\n",
    "    batch['atom_mask'] = atom_mask\n",
    "    batch['token_mask'] = token_mask\n",
    "    batch['is_protein'] = is_protein\n",
    "    batch['is_dna'] = is_dna\n",
    "    batch['is_rna'] = is_rna\n",
    "    batch['is_ligand'] = is_ligand\n",
    "    batch['valid_frame'] = valid_frame\n",
    "    batch['atom_mask_gt'] = atom_mask_gt\n",
    "    batch['frame_index'] = frame_index\n",
    "\n",
    "    return batch\n"
   ]
  },
  {
   "cell_type": "markdown",
   "metadata": {},
   "source": [
    "# "
   ]
  },
  {
   "cell_type": "code",
   "execution_count": 12,
   "metadata": {},
   "outputs": [],
   "source": [
    "torch.manual_seed(12345)\n",
    "B = 5\n",
    "batch = get_batch(batch_size=B)\n",
    "N = batch['N_max']\n",
    "\n",
    "x_gt = torch.zeros(B, N, 3) * batch['atom_mask_gt'].unsqueeze(-1) # [B, N, 3]\n",
    "\n",
    "# shifts and rotations\n",
    "shifts = torch.randn(B, 1, 3)\n",
    "R, _, _ = torch.linalg.svd(torch.randn(B, 1, 3, 3)) # [B, 1, 3, 3]\n",
    "\n",
    "x = (R @ x_gt[..., None]).squeeze(-1) + shifts\n",
    "noise = torch.randn_like(x) * 0.5\n",
    "x += noise\n",
    "\n",
    "logits = torch.randn(B, N, 50)"
   ]
  },
  {
   "cell_type": "markdown",
   "metadata": {},
   "source": [
    "## pLDDT"
   ]
  },
  {
   "cell_type": "code",
   "execution_count": 83,
   "metadata": {},
   "outputs": [
    {
     "data": {
      "image/png": "[encoded data removed]",
      "text/plain": [
       "<Figure size 640x480 with 1 Axes>"
      ]
     },
     "metadata": {},
     "output_type": "display_data"
    }
   ],
   "source": [
    "import matplotlib.pyplot as plt\n",
    "import torch.nn.functional as F\n",
    "from confidence import pLDDT\n",
    "\n",
    "atom_mask_gt = batch['atom_mask_gt']\n",
    "atom_mask = batch['atom_mask']\n",
    "valid_frame = batch['valid_frame']\n",
    "frame_idx = batch['frame_index'].to(torch.int64)\n",
    "is_protein = batch['is_protein'].to(torch.int64)\n",
    "is_rna = batch['is_rna'].to(torch.int64)\n",
    "is_dna = batch['is_dna'].to(torch.int64)\n",
    "eps = 1e-8\n",
    "\n",
    "#----------------------------------------\n",
    "# GET \"TARGET\" LOGITS TO TEST LOSS\n",
    "#----------------------------------------\n",
    "dx = torch.cdist(x, x)  # [*, N, N]\n",
    "dx_gt = torch.cdist(x_gt, x_gt)  # [*, N, N]\n",
    "delta = torch.abs(dx - dx_gt)  # [*, N, N]\n",
    "\n",
    "Ca_mask = frame_idx[..., 1] * is_protein  # [*, T]\n",
    "Ca_mask = F.one_hot(Ca_mask, num_classes=dx.shape[-1]).sum(dim=-2)  # [*, N]\n",
    "\n",
    "C1_mask = frame_idx[..., 1] * (is_dna + is_rna)  # [*, T]\n",
    "C1_mask = F.one_hot(C1_mask, num_classes=dx.shape[-1]).sum(dim=-2)  # [*, N]\n",
    "\n",
    "# Restrict to bespoke inclusion radius\n",
    "c = ((dx_gt < 30.0) * Ca_mask.unsqueeze(-2) + \n",
    "        (dx_gt < 15.0) * C1_mask.unsqueeze(-2))  # [*, N, N]\n",
    "\n",
    "# atom mask and avoid self term\n",
    "# TODO check dtypes for masks\n",
    "mask = 1 - torch.eye(c.shape[-1], device=c.device)  # [N, N]\n",
    "mask = mask * atom_mask_gt[..., None] * atom_mask_gt[..., None, :]  # [*, N, N]\n",
    "c = c * mask  # [*, N, N]\n",
    "\n",
    "thresholds = torch.tensor([0.5, 1.0, 2.0, 4.0]).to(dx.device)\n",
    "lddt = torch.where(delta[..., None] < thresholds, 1.0, 0.0).sum(-1)  # [*, N, N]\n",
    "# TODO: shouldn't this be normalized? (normalized here...)\n",
    "lddt = 0.25 * (lddt * c).sum(dim=-1) / (c.sum(dim=-1) + eps)  # [*, N]\n",
    "\n",
    "boundaries = torch.linspace(\n",
    "        0.0, 1.0, 50 + 1, device=lddt.device\n",
    "        )  # [n_bins + 1]\n",
    "bins = torch.bucketize(lddt, boundaries[1:-1])  # [*, N]\n",
    "\n",
    "# set bin to ignore value (=-100) of F.cross_entropy for masked atoms\n",
    "#bins = bins.masked_fill_(~atom_mask_gt.bool(), -100)  # [*, N]\n",
    "\n",
    "# turn bins into one hot\n",
    "bins = F.one_hot(bins, num_classes=50)  # [*, N, 50]\n",
    "bins = bins * atom_mask_gt[..., None]  # [*, N, 50]\n",
    "bins = torch.where(bins==0, torch.tensor(1e-4).to(bins.device), bins)\n",
    "logits = torch.log(bins)\n",
    "\n",
    "noise = torch.linspace(0, 5, 21)\n",
    "losses = []\n",
    "for a in noise:\n",
    "        logits_n = logits + a * torch.randn_like(logits)\n",
    "\n",
    "        loss = pLDDT(x, x_gt, frame_idx, atom_mask_gt, is_protein, is_dna, is_rna, logits_n)\n",
    "        losses.append(loss.item())\n",
    "\n",
    "plt.plot(noise, losses)\n",
    "plt.show()"
   ]
  },
  {
   "cell_type": "markdown",
   "metadata": {},
   "source": [
    "# Predicted Distance Error"
   ]
  },
  {
   "cell_type": "code",
   "execution_count": 90,
   "metadata": {},
   "outputs": [
    {
     "name": "stdout",
     "output_type": "stream",
     "text": [
      "tensor(4.6622)\n",
      "torch.Size([5, 78, 78])\n"
     ]
    }
   ],
   "source": [
    "from confidence import predictedDistanceError\n",
    "\n",
    "T = batch['T_max']\n",
    "\n",
    "logits = torch.randn(B, T, T, 64)\n",
    "\n",
    "pde, PDE = predictedDistanceError(x, x_gt, frame_idx, logits)\n",
    "\n",
    "print(pde)\n",
    "\n",
    "print(PDE.shape)"
   ]
  },
  {
   "cell_type": "markdown",
   "metadata": {},
   "source": [
    "# Experimentally Resolved Predictions"
   ]
  },
  {
   "cell_type": "code",
   "execution_count": 92,
   "metadata": {},
   "outputs": [
    {
     "data": {
      "text/plain": [
       "tensor(0.9144)"
      ]
     },
     "execution_count": 92,
     "metadata": {},
     "output_type": "execute_result"
    }
   ],
   "source": [
    "from confidence import experimentally_resolved_prediction\n",
    "\n",
    "logits = torch.randn(B, N, 2)\n",
    "atom_mask_gt = batch['atom_mask_gt']\n",
    "atom_mask = batch['atom_mask']\n",
    "\n",
    "loss = experimentally_resolved_prediction(atom_mask_gt, atom_mask, logits)\n",
    "loss"
   ]
  },
  {
   "cell_type": "code",
   "execution_count": null,
   "metadata": {},
   "outputs": [],
   "source": []
  }
 ],
 "metadata": {
  "kernelspec": {
   "display_name": "torch_workshop",
   "language": "python",
   "name": "python3"
  },
  "language_info": {
   "codemirror_mode": {
    "name": "ipython",
    "version": 3
   },
   "file_extension": ".py",
   "mimetype": "text/x-python",
   "name": "python",
   "nbconvert_exporter": "python",
   "pygments_lexer": "ipython3",
   "version": "3.7.7"
  }
 },
 "nbformat": 4,
 "nbformat_minor": 2
}
